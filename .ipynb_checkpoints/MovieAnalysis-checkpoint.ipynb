{
 "cells": [
  {
   "cell_type": "markdown",
   "metadata": {
    "collapsed": true
   },
   "source": [
    "# Movie Analysis"
   ]
  },
  {
   "cell_type": "code",
   "execution_count": 13,
   "metadata": {},
   "outputs": [],
   "source": [
    "import pandas as pd\n",
    "import numpy as np\n",
    "import seaborn as sns\n",
    "import matplotlib\n",
    "\n",
    "from os import listdir\n",
    "from os.path import isfile, join\n",
    "import pandas as pd\n",
    "import json\n",
    "\n",
    "import matplotlib.pyplot as plt\n",
    "from scipy.stats import skew\n",
    "from scipy.stats.stats import pearsonr\n",
    "from sklearn.linear_model import Ridge, RidgeCV, ElasticNet, LassoCV, LassoLarsCV\n",
    "from sklearn.model_selection import cross_val_score\n",
    "\n",
    "\n",
    "%config InlineBackend.figure_format = 'retina'\n",
    "%matplotlib inline"
   ]
  },
  {
   "cell_type": "markdown",
   "metadata": {},
   "source": [
    "## Data Collection\n",
    "Data about movies is in no short supply on the web. After deciding on which data would be most relevant, we found two data sets that would complement each other \n",
    "\n",
    "Kaggle - https://www.kaggle.com/tmdb/tmdb-movie-metadata"
   ]
  },
  {
   "cell_type": "markdown",
   "metadata": {},
   "source": [
    "Load the data from the raw files into Pandas dataframes. Some preprocessing had to be done on these files since they had some non-utf-8 characters."
   ]
  },
  {
   "cell_type": "code",
   "execution_count": 14,
   "metadata": {},
   "outputs": [],
   "source": [
    "file_dir = \"Data/RawData/\"\n",
    "\n",
    "data_files = [f for f in listdir(file_dir) if isfile(join(file_dir, f))]\n",
    "data_list = []\n",
    "\n",
    "for data_file in data_files:\n",
    "    if \"Store\" not in data_file:\n",
    "        data_list.append(pd.read_csv(file_dir + data_file, engine='python'))\n",
    "\n",
    "merged = data_list[0].join(data_list[1], lsuffix='title', rsuffix='title')"
   ]
  },
  {
   "cell_type": "markdown",
   "metadata": {},
   "source": [
    "Countries that a movie was produced is some interesting data. Flatten it down and one-hot encode it."
   ]
  },
  {
   "cell_type": "code",
   "execution_count": 15,
   "metadata": {},
   "outputs": [],
   "source": [
    "rows = []\n",
    "for i, row in enumerate(merged['production_countries']):\n",
    "    if len(json.loads(row)) > 0:\n",
    "        rows.append(\"|\".join([country['name'] for country in json.loads(row)]))\n",
    "    else:\n",
    "        rows.append(\"\")\n",
    "merged.drop(['production_countries'], axis=1)\n",
    "se = pd.Series(rows)\n",
    "merged['production_countries'] = se.values\n",
    "cleaned_pc = merged.production_countries.str.split('|', expand=True).stack()\n",
    "production_countries = pd.get_dummies(cleaned_pc, prefix='cp').groupby(level=0).sum()"
   ]
  },
  {
   "cell_type": "markdown",
   "metadata": {},
   "source": [
    "One hot encode genres, color, content rating, and language"
   ]
  },
  {
   "cell_type": "code",
   "execution_count": 16,
   "metadata": {},
   "outputs": [],
   "source": [
    "cleaned_g = merged.genres.str.split('|', expand=True).stack()\n",
    "genres = pd.get_dummies(cleaned_g, prefix='g').groupby(level=0).sum()\n",
    "\n",
    "color = pd.get_dummies(merged['color'])\n",
    "content_rating = pd.get_dummies(merged['content_rating'])\n",
    "language = pd.get_dummies(merged['language'])"
   ]
  },
  {
   "cell_type": "markdown",
   "metadata": {},
   "source": [
    "Merge in all of the one-hot encoded data into the merged dataframe"
   ]
  },
  {
   "cell_type": "code",
   "execution_count": 17,
   "metadata": {},
   "outputs": [],
   "source": [
    "# Add the one-hot encoded dataframes to the final set\n",
    "merged = pd.concat([merged, genres], axis=1, sort=True)\n",
    "merged = pd.concat([merged, color], axis=1, sort=True)\n",
    "merged = pd.concat([merged, content_rating], axis=1, sort=True)\n",
    "merged = pd.concat([merged, language], axis=1, sort=True)\n",
    "merged = pd.concat([merged, production_countries], axis=1, sort=True)"
   ]
  },
  {
   "cell_type": "markdown",
   "metadata": {},
   "source": []
  },
  {
   "cell_type": "code",
   "execution_count": 18,
   "metadata": {},
   "outputs": [],
   "source": [
    "merged = merged.drop(['genres', 'movie_title', 'gross', 'production_countries', 'num_user_for_reviews',\n",
    "                      'director_name', 'actor_2_name', 'actor_1_facebook_likes',\n",
    "                      'actor_1_name', 'actor_3_name', 'color', 'content_rating', 'language'], axis=1)"
   ]
  },
  {
   "cell_type": "markdown",
   "metadata": {},
   "source": [
    "Drop other columns"
   ]
  },
  {
   "cell_type": "code",
   "execution_count": 19,
   "metadata": {},
   "outputs": [],
   "source": [
    "# Drop columns that we will not be using yet, but might later (keywords)\n",
    "merged = merged.drop(['plot_keywords', 'keywords'], axis=1)\n",
    "\n",
    "# I think production companies might be a bit much. lets remove it for now.\n",
    "merged = merged.drop(['production_companies'], axis=1)"
   ]
  },
  {
   "cell_type": "markdown",
   "metadata": {},
   "source": [
    "### Fix the release date (https://stackoverflow.com/questions/46428870/how-to-handle-date-variable-in-machine-learning-data-pre-processing)\n",
    "### Dropping for now, but this is definitely something to do feature engineering on!\n"
   ]
  },
  {
   "cell_type": "code",
   "execution_count": 20,
   "metadata": {},
   "outputs": [],
   "source": [
    "merged = merged.drop(['release_date'], axis=1)"
   ]
  },
  {
   "cell_type": "markdown",
   "metadata": {},
   "source": []
  },
  {
   "cell_type": "code",
   "execution_count": 21,
   "metadata": {},
   "outputs": [],
   "source": [
    "# set to average any 0 or nan for most of the continous columns\n",
    "# 0 or nan: revenue, duration\n",
    "zero_or_nan_average = ['revenue', 'duration']\n",
    "for col in zero_or_nan_average:\n",
    "    mean = merged[col].mean()\n",
    "    merged[col].fillna((mean), inplace=True)\n",
    "    merged = merged.replace({col: {0: mean}})\n",
    "    \n",
    "just_nan_average = ['vote_average', 'vote_count', 'num_critic_for_reviews', 'director_facebook_likes', 'actor_3_facebook_likes', 'num_voted_users',\n",
    "                    'cast_total_facebook_likes', 'facenumber_in_poster', 'actor_2_facebook_likes', 'movie_facebook_likes']\n",
    "for col in just_nan_average:\n",
    "    merged[col].fillna((merged[col].mean()), inplace=True)"
   ]
  },
  {
   "cell_type": "markdown",
   "metadata": {},
   "source": [
    "Wrap up the data preprocessing!"
   ]
  },
  {
   "cell_type": "code",
   "execution_count": 22,
   "metadata": {},
   "outputs": [
    {
     "data": {
      "text/html": [
       "<div>\n",
       "<style scoped>\n",
       "    .dataframe tbody tr th:only-of-type {\n",
       "        vertical-align: middle;\n",
       "    }\n",
       "\n",
       "    .dataframe tbody tr th {\n",
       "        vertical-align: top;\n",
       "    }\n",
       "\n",
       "    .dataframe thead th {\n",
       "        text-align: right;\n",
       "    }\n",
       "</style>\n",
       "<table border=\"1\" class=\"dataframe\">\n",
       "  <thead>\n",
       "    <tr style=\"text-align: right;\">\n",
       "      <th></th>\n",
       "      <th>revenue</th>\n",
       "      <th>vote_average</th>\n",
       "      <th>vote_count</th>\n",
       "      <th>num_critic_for_reviews</th>\n",
       "      <th>duration</th>\n",
       "      <th>director_facebook_likes</th>\n",
       "      <th>actor_3_facebook_likes</th>\n",
       "      <th>num_voted_users</th>\n",
       "      <th>cast_total_facebook_likes</th>\n",
       "      <th>facenumber_in_poster</th>\n",
       "      <th>...</th>\n",
       "      <th>cp_Sweden</th>\n",
       "      <th>cp_Switzerland</th>\n",
       "      <th>cp_Taiwan</th>\n",
       "      <th>cp_Thailand</th>\n",
       "      <th>cp_Tunisia</th>\n",
       "      <th>cp_Turkey</th>\n",
       "      <th>cp_Ukraine</th>\n",
       "      <th>cp_United Arab Emirates</th>\n",
       "      <th>cp_United Kingdom</th>\n",
       "      <th>cp_United States of America</th>\n",
       "    </tr>\n",
       "    <tr>\n",
       "      <th>title</th>\n",
       "      <th></th>\n",
       "      <th></th>\n",
       "      <th></th>\n",
       "      <th></th>\n",
       "      <th></th>\n",
       "      <th></th>\n",
       "      <th></th>\n",
       "      <th></th>\n",
       "      <th></th>\n",
       "      <th></th>\n",
       "      <th></th>\n",
       "      <th></th>\n",
       "      <th></th>\n",
       "      <th></th>\n",
       "      <th></th>\n",
       "      <th></th>\n",
       "      <th></th>\n",
       "      <th></th>\n",
       "      <th></th>\n",
       "      <th></th>\n",
       "      <th></th>\n",
       "    </tr>\n",
       "  </thead>\n",
       "  <tbody>\n",
       "    <tr>\n",
       "      <th>Avatar</th>\n",
       "      <td>2.787965e+09</td>\n",
       "      <td>7.2</td>\n",
       "      <td>11800</td>\n",
       "      <td>723.0</td>\n",
       "      <td>178.0</td>\n",
       "      <td>0.0</td>\n",
       "      <td>855.0</td>\n",
       "      <td>886204</td>\n",
       "      <td>4834</td>\n",
       "      <td>0.0</td>\n",
       "      <td>...</td>\n",
       "      <td>0</td>\n",
       "      <td>0</td>\n",
       "      <td>0</td>\n",
       "      <td>0</td>\n",
       "      <td>0</td>\n",
       "      <td>0</td>\n",
       "      <td>0</td>\n",
       "      <td>0</td>\n",
       "      <td>1</td>\n",
       "      <td>1</td>\n",
       "    </tr>\n",
       "    <tr>\n",
       "      <th>Pirates of the Caribbean: At World's End</th>\n",
       "      <td>9.610000e+08</td>\n",
       "      <td>6.9</td>\n",
       "      <td>4500</td>\n",
       "      <td>302.0</td>\n",
       "      <td>169.0</td>\n",
       "      <td>563.0</td>\n",
       "      <td>1000.0</td>\n",
       "      <td>471220</td>\n",
       "      <td>48350</td>\n",
       "      <td>0.0</td>\n",
       "      <td>...</td>\n",
       "      <td>0</td>\n",
       "      <td>0</td>\n",
       "      <td>0</td>\n",
       "      <td>0</td>\n",
       "      <td>0</td>\n",
       "      <td>0</td>\n",
       "      <td>0</td>\n",
       "      <td>0</td>\n",
       "      <td>0</td>\n",
       "      <td>1</td>\n",
       "    </tr>\n",
       "    <tr>\n",
       "      <th>Spectre</th>\n",
       "      <td>8.806746e+08</td>\n",
       "      <td>6.3</td>\n",
       "      <td>4466</td>\n",
       "      <td>602.0</td>\n",
       "      <td>148.0</td>\n",
       "      <td>0.0</td>\n",
       "      <td>161.0</td>\n",
       "      <td>275868</td>\n",
       "      <td>11700</td>\n",
       "      <td>1.0</td>\n",
       "      <td>...</td>\n",
       "      <td>0</td>\n",
       "      <td>0</td>\n",
       "      <td>0</td>\n",
       "      <td>0</td>\n",
       "      <td>0</td>\n",
       "      <td>0</td>\n",
       "      <td>0</td>\n",
       "      <td>0</td>\n",
       "      <td>1</td>\n",
       "      <td>1</td>\n",
       "    </tr>\n",
       "    <tr>\n",
       "      <th>The Dark Knight Rises</th>\n",
       "      <td>1.084939e+09</td>\n",
       "      <td>7.6</td>\n",
       "      <td>9106</td>\n",
       "      <td>813.0</td>\n",
       "      <td>164.0</td>\n",
       "      <td>22000.0</td>\n",
       "      <td>23000.0</td>\n",
       "      <td>1144337</td>\n",
       "      <td>106759</td>\n",
       "      <td>0.0</td>\n",
       "      <td>...</td>\n",
       "      <td>0</td>\n",
       "      <td>0</td>\n",
       "      <td>0</td>\n",
       "      <td>0</td>\n",
       "      <td>0</td>\n",
       "      <td>0</td>\n",
       "      <td>0</td>\n",
       "      <td>0</td>\n",
       "      <td>0</td>\n",
       "      <td>1</td>\n",
       "    </tr>\n",
       "    <tr>\n",
       "      <th>John Carter</th>\n",
       "      <td>2.841391e+08</td>\n",
       "      <td>6.1</td>\n",
       "      <td>2124</td>\n",
       "      <td>462.0</td>\n",
       "      <td>132.0</td>\n",
       "      <td>475.0</td>\n",
       "      <td>530.0</td>\n",
       "      <td>212204</td>\n",
       "      <td>1873</td>\n",
       "      <td>1.0</td>\n",
       "      <td>...</td>\n",
       "      <td>0</td>\n",
       "      <td>0</td>\n",
       "      <td>0</td>\n",
       "      <td>0</td>\n",
       "      <td>0</td>\n",
       "      <td>0</td>\n",
       "      <td>0</td>\n",
       "      <td>0</td>\n",
       "      <td>0</td>\n",
       "      <td>1</td>\n",
       "    </tr>\n",
       "  </tbody>\n",
       "</table>\n",
       "<p>5 rows × 193 columns</p>\n",
       "</div>"
      ],
      "text/plain": [
       "                                               revenue  vote_average  \\\n",
       "title                                                                  \n",
       "Avatar                                    2.787965e+09           7.2   \n",
       "Pirates of the Caribbean: At World's End  9.610000e+08           6.9   \n",
       "Spectre                                   8.806746e+08           6.3   \n",
       "The Dark Knight Rises                     1.084939e+09           7.6   \n",
       "John Carter                               2.841391e+08           6.1   \n",
       "\n",
       "                                          vote_count  num_critic_for_reviews  \\\n",
       "title                                                                          \n",
       "Avatar                                         11800                   723.0   \n",
       "Pirates of the Caribbean: At World's End        4500                   302.0   \n",
       "Spectre                                         4466                   602.0   \n",
       "The Dark Knight Rises                           9106                   813.0   \n",
       "John Carter                                     2124                   462.0   \n",
       "\n",
       "                                          duration  director_facebook_likes  \\\n",
       "title                                                                         \n",
       "Avatar                                       178.0                      0.0   \n",
       "Pirates of the Caribbean: At World's End     169.0                    563.0   \n",
       "Spectre                                      148.0                      0.0   \n",
       "The Dark Knight Rises                        164.0                  22000.0   \n",
       "John Carter                                  132.0                    475.0   \n",
       "\n",
       "                                          actor_3_facebook_likes  \\\n",
       "title                                                              \n",
       "Avatar                                                     855.0   \n",
       "Pirates of the Caribbean: At World's End                  1000.0   \n",
       "Spectre                                                    161.0   \n",
       "The Dark Knight Rises                                    23000.0   \n",
       "John Carter                                                530.0   \n",
       "\n",
       "                                          num_voted_users  \\\n",
       "title                                                       \n",
       "Avatar                                             886204   \n",
       "Pirates of the Caribbean: At World's End           471220   \n",
       "Spectre                                            275868   \n",
       "The Dark Knight Rises                             1144337   \n",
       "John Carter                                        212204   \n",
       "\n",
       "                                          cast_total_facebook_likes  \\\n",
       "title                                                                 \n",
       "Avatar                                                         4834   \n",
       "Pirates of the Caribbean: At World's End                      48350   \n",
       "Spectre                                                       11700   \n",
       "The Dark Knight Rises                                        106759   \n",
       "John Carter                                                    1873   \n",
       "\n",
       "                                          facenumber_in_poster  ...  \\\n",
       "title                                                           ...   \n",
       "Avatar                                                     0.0  ...   \n",
       "Pirates of the Caribbean: At World's End                   0.0  ...   \n",
       "Spectre                                                    1.0  ...   \n",
       "The Dark Knight Rises                                      0.0  ...   \n",
       "John Carter                                                1.0  ...   \n",
       "\n",
       "                                          cp_Sweden  cp_Switzerland  \\\n",
       "title                                                                 \n",
       "Avatar                                            0               0   \n",
       "Pirates of the Caribbean: At World's End          0               0   \n",
       "Spectre                                           0               0   \n",
       "The Dark Knight Rises                             0               0   \n",
       "John Carter                                       0               0   \n",
       "\n",
       "                                          cp_Taiwan  cp_Thailand  cp_Tunisia  \\\n",
       "title                                                                          \n",
       "Avatar                                            0            0           0   \n",
       "Pirates of the Caribbean: At World's End          0            0           0   \n",
       "Spectre                                           0            0           0   \n",
       "The Dark Knight Rises                             0            0           0   \n",
       "John Carter                                       0            0           0   \n",
       "\n",
       "                                          cp_Turkey  cp_Ukraine  \\\n",
       "title                                                             \n",
       "Avatar                                            0           0   \n",
       "Pirates of the Caribbean: At World's End          0           0   \n",
       "Spectre                                           0           0   \n",
       "The Dark Knight Rises                             0           0   \n",
       "John Carter                                       0           0   \n",
       "\n",
       "                                          cp_United Arab Emirates  \\\n",
       "title                                                               \n",
       "Avatar                                                          0   \n",
       "Pirates of the Caribbean: At World's End                        0   \n",
       "Spectre                                                         0   \n",
       "The Dark Knight Rises                                           0   \n",
       "John Carter                                                     0   \n",
       "\n",
       "                                          cp_United Kingdom  \\\n",
       "title                                                         \n",
       "Avatar                                                    1   \n",
       "Pirates of the Caribbean: At World's End                  0   \n",
       "Spectre                                                   1   \n",
       "The Dark Knight Rises                                     0   \n",
       "John Carter                                               0   \n",
       "\n",
       "                                          cp_United States of America  \n",
       "title                                                                  \n",
       "Avatar                                                              1  \n",
       "Pirates of the Caribbean: At World's End                            1  \n",
       "Spectre                                                             1  \n",
       "The Dark Knight Rises                                               1  \n",
       "John Carter                                                         1  \n",
       "\n",
       "[5 rows x 193 columns]"
      ]
     },
     "execution_count": 22,
     "metadata": {},
     "output_type": "execute_result"
    }
   ],
   "source": [
    "merged = merged.set_index('title')\n",
    "merged.head()"
   ]
  },
  {
   "cell_type": "code",
   "execution_count": 25,
   "metadata": {},
   "outputs": [],
   "source": [
    "msk = np.random.rand(len(merged)) < 0.8\n",
    "train = merged[msk]\n",
    "test = merged[~msk]\n",
    "\n",
    "#creating matrices for sklearn:\n",
    "X_train = merged[:train.shape[0]]\n",
    "X_test = merged[train.shape[0]:]\n",
    "# cross_ten = np.array_split(merged, 10)\n",
    "alphas = [0.0001, 0.001, 0.01, 0.1, 1, 10]\n",
    "y = train.revenue"
   ]
  },
  {
   "cell_type": "markdown",
   "metadata": {},
   "source": []
  },
  {
   "cell_type": "code",
   "execution_count": null,
   "metadata": {},
   "outputs": [],
   "source": []
  },
  {
   "cell_type": "markdown",
   "metadata": {},
   "source": [
    "### Lasso Regression"
   ]
  },
  {
   "cell_type": "code",
   "execution_count": 26,
   "metadata": {},
   "outputs": [
    {
     "ename": "ValueError",
     "evalue": "Input contains NaN, infinity or a value too large for dtype('float64').",
     "output_type": "error",
     "traceback": [
      "\u001b[0;31m---------------------------------------------------------------------------\u001b[0m",
      "\u001b[0;31mValueError\u001b[0m                                Traceback (most recent call last)",
      "\u001b[0;32m<ipython-input-26-28c0e32ee2f6>\u001b[0m in \u001b[0;36m<module>\u001b[0;34m()\u001b[0m\n\u001b[0;32m----> 1\u001b[0;31m \u001b[0mmodel_lasso\u001b[0m \u001b[0;34m=\u001b[0m \u001b[0mLassoCV\u001b[0m\u001b[0;34m(\u001b[0m\u001b[0malphas\u001b[0m \u001b[0;34m=\u001b[0m \u001b[0malphas\u001b[0m\u001b[0;34m)\u001b[0m\u001b[0;34m.\u001b[0m\u001b[0mfit\u001b[0m\u001b[0;34m(\u001b[0m\u001b[0mX_train\u001b[0m\u001b[0;34m,\u001b[0m \u001b[0my\u001b[0m\u001b[0;34m)\u001b[0m\u001b[0;34m\u001b[0m\u001b[0;34m\u001b[0m\u001b[0m\n\u001b[0m\u001b[1;32m      2\u001b[0m \u001b[0mrmse_cv\u001b[0m\u001b[0;34m(\u001b[0m\u001b[0mmodel_lasso\u001b[0m\u001b[0;34m)\u001b[0m\u001b[0;34m.\u001b[0m\u001b[0mmean\u001b[0m\u001b[0;34m(\u001b[0m\u001b[0;34m)\u001b[0m\u001b[0;34m\u001b[0m\u001b[0;34m\u001b[0m\u001b[0m\n",
      "\u001b[0;32m/Library/Frameworks/Python.framework/Versions/3.7/lib/python3.7/site-packages/sklearn/linear_model/coordinate_descent.py\u001b[0m in \u001b[0;36mfit\u001b[0;34m(self, X, y)\u001b[0m\n\u001b[1;32m   1147\u001b[0m         \u001b[0;32melse\u001b[0m\u001b[0;34m:\u001b[0m\u001b[0;34m\u001b[0m\u001b[0;34m\u001b[0m\u001b[0m\n\u001b[1;32m   1148\u001b[0m             X = check_array(X, 'csc', dtype=[np.float64, np.float32],\n\u001b[0;32m-> 1149\u001b[0;31m                             order='F', copy=copy_X)\n\u001b[0m\u001b[1;32m   1150\u001b[0m             \u001b[0mcopy_X\u001b[0m \u001b[0;34m=\u001b[0m \u001b[0;32mFalse\u001b[0m\u001b[0;34m\u001b[0m\u001b[0;34m\u001b[0m\u001b[0m\n\u001b[1;32m   1151\u001b[0m \u001b[0;34m\u001b[0m\u001b[0m\n",
      "\u001b[0;32m/Library/Frameworks/Python.framework/Versions/3.7/lib/python3.7/site-packages/sklearn/utils/validation.py\u001b[0m in \u001b[0;36mcheck_array\u001b[0;34m(array, accept_sparse, accept_large_sparse, dtype, order, copy, force_all_finite, ensure_2d, allow_nd, ensure_min_samples, ensure_min_features, warn_on_dtype, estimator)\u001b[0m\n\u001b[1;32m    571\u001b[0m         \u001b[0;32mif\u001b[0m \u001b[0mforce_all_finite\u001b[0m\u001b[0;34m:\u001b[0m\u001b[0;34m\u001b[0m\u001b[0;34m\u001b[0m\u001b[0m\n\u001b[1;32m    572\u001b[0m             _assert_all_finite(array,\n\u001b[0;32m--> 573\u001b[0;31m                                allow_nan=force_all_finite == 'allow-nan')\n\u001b[0m\u001b[1;32m    574\u001b[0m \u001b[0;34m\u001b[0m\u001b[0m\n\u001b[1;32m    575\u001b[0m     \u001b[0mshape_repr\u001b[0m \u001b[0;34m=\u001b[0m \u001b[0m_shape_repr\u001b[0m\u001b[0;34m(\u001b[0m\u001b[0marray\u001b[0m\u001b[0;34m.\u001b[0m\u001b[0mshape\u001b[0m\u001b[0;34m)\u001b[0m\u001b[0;34m\u001b[0m\u001b[0;34m\u001b[0m\u001b[0m\n",
      "\u001b[0;32m/Library/Frameworks/Python.framework/Versions/3.7/lib/python3.7/site-packages/sklearn/utils/validation.py\u001b[0m in \u001b[0;36m_assert_all_finite\u001b[0;34m(X, allow_nan)\u001b[0m\n\u001b[1;32m     54\u001b[0m                 not allow_nan and not np.isfinite(X).all()):\n\u001b[1;32m     55\u001b[0m             \u001b[0mtype_err\u001b[0m \u001b[0;34m=\u001b[0m \u001b[0;34m'infinity'\u001b[0m \u001b[0;32mif\u001b[0m \u001b[0mallow_nan\u001b[0m \u001b[0;32melse\u001b[0m \u001b[0;34m'NaN, infinity'\u001b[0m\u001b[0;34m\u001b[0m\u001b[0;34m\u001b[0m\u001b[0m\n\u001b[0;32m---> 56\u001b[0;31m             \u001b[0;32mraise\u001b[0m \u001b[0mValueError\u001b[0m\u001b[0;34m(\u001b[0m\u001b[0mmsg_err\u001b[0m\u001b[0;34m.\u001b[0m\u001b[0mformat\u001b[0m\u001b[0;34m(\u001b[0m\u001b[0mtype_err\u001b[0m\u001b[0;34m,\u001b[0m \u001b[0mX\u001b[0m\u001b[0;34m.\u001b[0m\u001b[0mdtype\u001b[0m\u001b[0;34m)\u001b[0m\u001b[0;34m)\u001b[0m\u001b[0;34m\u001b[0m\u001b[0;34m\u001b[0m\u001b[0m\n\u001b[0m\u001b[1;32m     57\u001b[0m \u001b[0;34m\u001b[0m\u001b[0m\n\u001b[1;32m     58\u001b[0m \u001b[0;34m\u001b[0m\u001b[0m\n",
      "\u001b[0;31mValueError\u001b[0m: Input contains NaN, infinity or a value too large for dtype('float64')."
     ]
    }
   ],
   "source": [
    "model_lasso = LassoCV(alphas = alphas).fit(X_train, y)\n",
    "rmse_cv(model_lasso).mean()"
   ]
  },
  {
   "cell_type": "code",
   "execution_count": null,
   "metadata": {},
   "outputs": [],
   "source": [
    "coef = pd.Series(model_lasso.coef_, index = X_train.columns)\n",
    "print(\"Lasso picked \" + str(sum(coef != 0)) + \" variables and eliminated the other \" +  str(sum(coef == 0)) + \" variables\")"
   ]
  },
  {
   "cell_type": "code",
   "execution_count": null,
   "metadata": {},
   "outputs": [],
   "source": [
    "lasso_preds = np.expm1(model_lasso.predict(X_test))\n",
    "solution = pd.DataFrame({\"id\":test.Id, \"SalePrice\":lasso_preds})\n",
    "solution.to_csv(\"lasso_sol.csv\", index = False)"
   ]
  }
 ],
 "metadata": {
  "kernelspec": {
   "display_name": "Python 3",
   "language": "python",
   "name": "python3"
  },
  "language_info": {
   "codemirror_mode": {
    "name": "ipython",
    "version": 3
   },
   "file_extension": ".py",
   "mimetype": "text/x-python",
   "name": "python",
   "nbconvert_exporter": "python",
   "pygments_lexer": "ipython3",
   "version": "3.7.2"
  }
 },
 "nbformat": 4,
 "nbformat_minor": 1
}
